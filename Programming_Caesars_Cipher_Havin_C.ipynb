{
  "nbformat": 4,
  "nbformat_minor": 0,
  "metadata": {
    "colab": {
      "provenance": [],
      "authorship_tag": "ABX9TyMil11pGAXq5A8yV3n12KEH",
      "include_colab_link": true
    },
    "kernelspec": {
      "name": "python3",
      "display_name": "Python 3"
    },
    "language_info": {
      "name": "python"
    }
  },
  "cells": [
    {
      "cell_type": "markdown",
      "metadata": {
        "id": "view-in-github",
        "colab_type": "text"
      },
      "source": [
        "<a href=\"https://colab.research.google.com/github/havin89/Personal-Website-Project/blob/main/Programming_Caesars_Cipher_Havin_C.ipynb\" target=\"_parent\"><img src=\"https://colab.research.google.com/assets/colab-badge.svg\" alt=\"Open In Colab\"/></a>"
      ]
    },
    {
      "cell_type": "code",
      "execution_count": 3,
      "metadata": {
        "id": "c-tf0tr8zSZQ"
      },
      "outputs": [],
      "source": []
    },
    {
      "cell_type": "code",
      "source": [
        "#This program is the starter code for the Programming Caesar's Cipher Project.\n",
        "# This code is inspired by Cracking Codes with Python: An Introduction to Building and Breaking Ciphers by Al Sweigart https://www.nostarch.com/crackingcodes (BSD Licensed)\n",
        "\n",
        "# Global variables\n",
        "possibleCharacters = \"ABCDEFGHIJKLMNOPQRSTUVWXYZ\"\n",
        "initialPosition = 0\n",
        "shiftedPosition = 0\n",
        "shiftedMessage = \"\"\n",
        "\n",
        "# Run code\n",
        "\n",
        "# Introduction\n",
        "print(\"Welcome! This program will encrypt or decrypt your secret message using the Caesar cipher. \\n\\nWhen creating your message, you may only choose from the following characters: \" + possibleCharacters + \"\\n\\nLet's get started!\\n\")\n",
        "\n",
        "# Receive user input\n",
        "initialMessage = input (\"What is your message?: \")\n",
        "key = int(input (\"What is the key? Choose a number from 0 to 25: \"))\n",
        "mode = input (\"Do you want to encrypt or decrypt?: \")\n",
        "\n",
        "# Encrypt or decrypt the message\n",
        "for character in initialMessage:\n",
        "  if character in possibleCharacters:\n",
        "    initialPosition = possibleCharacters.find(character)\n",
        "\n",
        "    if mode.lower() == \"encrypt\":\n",
        "      shiftedPosition = (initialPosition + key)\n",
        "    elif mode.lower() == \"decrypt\":\n",
        "      shiftedPosition = (initialPosition - key)\n",
        "\n",
        "    if shiftedPosition >= len(possibleCharacters) :\n",
        "      shiftedPosition = shiftedPosition - len(possibleCharacters)\n",
        "    elif shiftedPosition < 0:\n",
        "      shiftedPosition = shiftedPosition + len(possibleCharacters)\n",
        "\n",
        "    shiftedMessage = shiftedMessage + possibleCharacters[shiftedPosition]\n",
        "\n",
        "  else:\n",
        "    shiftedMessage = shiftedMessage + character\n",
        "\n",
        "\n",
        "# Print the shifted message\n",
        "print(\"Your \" + mode. lower() + \"ed message is: \" + shiftedMessage)"
      ],
      "metadata": {
        "colab": {
          "base_uri": "https://localhost:8080/"
        },
        "id": "nXQr9BZ1zYK7",
        "outputId": "c54098ea-9d1a-4a93-c6c4-8e7317fd8686"
      },
      "execution_count": 4,
      "outputs": [
        {
          "output_type": "stream",
          "name": "stdout",
          "text": [
            "Welcome! This program will encrypt or decrypt your secret message using the Caesar cipher. \n",
            "\n",
            "When creating your message, you may only choose from the following characters: ABCDEFGHIJKLMNOPQRSTUVWXYZ\n",
            "\n",
            "Let's get started!\n",
            "\n",
            "What is your message?: OHCPU\n",
            "What is the key? Choose a number from 0 to 25: 7\n",
            "Do you want to encrypt or decrypt?: DECRYPT\n",
            "Your decrypted message is: HAVIN\n"
          ]
        }
      ]
    }
  ]
}